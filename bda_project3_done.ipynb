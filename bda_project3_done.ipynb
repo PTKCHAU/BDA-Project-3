{
 "cells": [
  {
   "cell_type": "markdown",
   "metadata": {},
   "source": [
    "# Big Data Analytics Project 3"
   ]
  },
  {
   "cell_type": "code",
   "execution_count": null,
   "metadata": {},
   "outputs": [],
   "source": [
    "%pip install pandas"
   ]
  },
  {
   "cell_type": "markdown",
   "metadata": {},
   "source": [
    "# Exploring Data"
   ]
  },
  {
   "cell_type": "code",
   "execution_count": 86,
   "metadata": {},
   "outputs": [],
   "source": [
    "import pandas as pd\n",
    "import json"
   ]
  },
  {
   "cell_type": "code",
   "execution_count": 87,
   "metadata": {},
   "outputs": [
    {
     "name": "stdout",
     "output_type": "stream",
     "text": [
      "                                       _id  \\\n",
      "0     {'$oid': '5bd761dcae323e45a93cd008'}   \n",
      "1     {'$oid': '5bd761dcae323e45a93cd010'}   \n",
      "2     {'$oid': '5bd761dcae323e45a93ccff6'}   \n",
      "3     {'$oid': '5bd761dcae323e45a93cd001'}   \n",
      "4     {'$oid': '5bd761dcae323e45a93cd007'}   \n",
      "...                                    ...   \n",
      "4995  {'$oid': '5bd761deae323e45a93ce33a'}   \n",
      "4996  {'$oid': '5bd761deae323e45a93ce349'}   \n",
      "4997  {'$oid': '5bd761deae323e45a93ce35b'}   \n",
      "4998  {'$oid': '5bd761deae323e45a93ce35c'}   \n",
      "4999  {'$oid': '5bd761deae323e45a93ce368'}   \n",
      "\n",
      "                                   saleDate  \\\n",
      "0     {'$date': '2017-09-14T10:52:42.206Z'}   \n",
      "1     {'$date': '2016-09-13T16:54:42.141Z'}   \n",
      "2     {'$date': '2017-08-21T20:38:34.618Z'}   \n",
      "3     {'$date': '2017-02-09T12:08:51.353Z'}   \n",
      "4     {'$date': '2016-07-10T09:35:56.729Z'}   \n",
      "...                                     ...   \n",
      "4995  {'$date': '2016-12-22T15:24:27.219Z'}   \n",
      "4996  {'$date': '2017-05-11T20:59:00.885Z'}   \n",
      "4997  {'$date': '2017-07-12T06:54:17.918Z'}   \n",
      "4998  {'$date': '2016-11-24T13:40:08.689Z'}   \n",
      "4999  {'$date': '2015-04-22T08:31:40.113Z'}   \n",
      "\n",
      "                                                  items storeLocation  \\\n",
      "0     [{'name': 'backpack', 'tags': ['school', 'trav...        Denver   \n",
      "1     [{'name': 'binder', 'tags': ['school', 'genera...     San Diego   \n",
      "2     [{'name': 'printer paper', 'tags': ['office', ...     San Diego   \n",
      "3     [{'name': 'printer paper', 'tags': ['office', ...        Denver   \n",
      "4     [{'name': 'envelopes', 'tags': ['stationary', ...       Seattle   \n",
      "...                                                 ...           ...   \n",
      "4995  [{'name': 'envelopes', 'tags': ['stationary', ...        Denver   \n",
      "4996  [{'name': 'envelopes', 'tags': ['stationary', ...        Denver   \n",
      "4997  [{'name': 'binder', 'tags': ['school', 'genera...        Denver   \n",
      "4998  [{'name': 'pens', 'tags': ['writing', 'office'...       Seattle   \n",
      "4999  [{'name': 'binder', 'tags': ['school', 'genera...      New York   \n",
      "\n",
      "                                               customer  couponUsed  \\\n",
      "0     {'gender': 'F', 'age': 54, 'email': 'civma@roz...       False   \n",
      "1     {'gender': 'F', 'age': 70, 'email': 'itene@jin...       False   \n",
      "2     {'gender': 'F', 'age': 36, 'email': 'gul@waija...       False   \n",
      "3     {'gender': 'M', 'age': 48, 'email': 'avwa@ud.p...       False   \n",
      "4     {'gender': 'M', 'age': 60, 'email': 'kege@nibo...       False   \n",
      "...                                                 ...         ...   \n",
      "4995  {'gender': 'F', 'age': 53, 'email': 'tutrigkim...        True   \n",
      "4996  {'gender': 'F', 'age': 28, 'email': 'fuv@lidbo...       False   \n",
      "4997  {'gender': 'F', 'age': 19, 'email': 'mohofri@c...       False   \n",
      "4998  {'gender': 'F', 'age': 35, 'email': 'sug@faaf....       False   \n",
      "4999  {'gender': 'F', 'age': 65, 'email': 'cas@ejubu...       False   \n",
      "\n",
      "     purchaseMethod  \n",
      "0          In store  \n",
      "1             Phone  \n",
      "2            Online  \n",
      "3          In store  \n",
      "4          In store  \n",
      "...             ...  \n",
      "4995       In store  \n",
      "4996       In store  \n",
      "4997       In store  \n",
      "4998       In store  \n",
      "4999         Online  \n",
      "\n",
      "[5000 rows x 7 columns]\n"
     ]
    }
   ],
   "source": [
    "data = []\n",
    "\n",
    "# Read data from the JSON file\n",
    "with open('supplies_sales_project3.json', 'r') as file:\n",
    "    for line in file:\n",
    "        try:\n",
    "            json_obj = json.loads(line)\n",
    "            data.append(json_obj)\n",
    "        except json.JSONDecodeError as e:\n",
    "            print(f\"Error decoding JSON: {e}\")\n",
    "\n",
    "# Store in a DataFrame\n",
    "df = pd.DataFrame(data)\n",
    "\n",
    "# Print DataFrame\n",
    "print(df)"
   ]
  },
  {
   "cell_type": "code",
   "execution_count": 88,
   "metadata": {},
   "outputs": [
    {
     "data": {
      "text/html": [
       "<div>\n",
       "<style scoped>\n",
       "    .dataframe tbody tr th:only-of-type {\n",
       "        vertical-align: middle;\n",
       "    }\n",
       "\n",
       "    .dataframe tbody tr th {\n",
       "        vertical-align: top;\n",
       "    }\n",
       "\n",
       "    .dataframe thead th {\n",
       "        text-align: right;\n",
       "    }\n",
       "</style>\n",
       "<table border=\"1\" class=\"dataframe\">\n",
       "  <thead>\n",
       "    <tr style=\"text-align: right;\">\n",
       "      <th></th>\n",
       "      <th>_id</th>\n",
       "      <th>saleDate</th>\n",
       "      <th>items</th>\n",
       "      <th>storeLocation</th>\n",
       "      <th>customer</th>\n",
       "      <th>couponUsed</th>\n",
       "      <th>purchaseMethod</th>\n",
       "    </tr>\n",
       "  </thead>\n",
       "  <tbody>\n",
       "    <tr>\n",
       "      <th>0</th>\n",
       "      <td>{'$oid': '5bd761dcae323e45a93cd008'}</td>\n",
       "      <td>{'$date': '2017-09-14T10:52:42.206Z'}</td>\n",
       "      <td>[{'name': 'backpack', 'tags': ['school', 'trav...</td>\n",
       "      <td>Denver</td>\n",
       "      <td>{'gender': 'F', 'age': 54, 'email': 'civma@roz...</td>\n",
       "      <td>False</td>\n",
       "      <td>In store</td>\n",
       "    </tr>\n",
       "    <tr>\n",
       "      <th>1</th>\n",
       "      <td>{'$oid': '5bd761dcae323e45a93cd010'}</td>\n",
       "      <td>{'$date': '2016-09-13T16:54:42.141Z'}</td>\n",
       "      <td>[{'name': 'binder', 'tags': ['school', 'genera...</td>\n",
       "      <td>San Diego</td>\n",
       "      <td>{'gender': 'F', 'age': 70, 'email': 'itene@jin...</td>\n",
       "      <td>False</td>\n",
       "      <td>Phone</td>\n",
       "    </tr>\n",
       "    <tr>\n",
       "      <th>2</th>\n",
       "      <td>{'$oid': '5bd761dcae323e45a93ccff6'}</td>\n",
       "      <td>{'$date': '2017-08-21T20:38:34.618Z'}</td>\n",
       "      <td>[{'name': 'printer paper', 'tags': ['office', ...</td>\n",
       "      <td>San Diego</td>\n",
       "      <td>{'gender': 'F', 'age': 36, 'email': 'gul@waija...</td>\n",
       "      <td>False</td>\n",
       "      <td>Online</td>\n",
       "    </tr>\n",
       "    <tr>\n",
       "      <th>3</th>\n",
       "      <td>{'$oid': '5bd761dcae323e45a93cd001'}</td>\n",
       "      <td>{'$date': '2017-02-09T12:08:51.353Z'}</td>\n",
       "      <td>[{'name': 'printer paper', 'tags': ['office', ...</td>\n",
       "      <td>Denver</td>\n",
       "      <td>{'gender': 'M', 'age': 48, 'email': 'avwa@ud.p...</td>\n",
       "      <td>False</td>\n",
       "      <td>In store</td>\n",
       "    </tr>\n",
       "    <tr>\n",
       "      <th>4</th>\n",
       "      <td>{'$oid': '5bd761dcae323e45a93cd007'}</td>\n",
       "      <td>{'$date': '2016-07-10T09:35:56.729Z'}</td>\n",
       "      <td>[{'name': 'envelopes', 'tags': ['stationary', ...</td>\n",
       "      <td>Seattle</td>\n",
       "      <td>{'gender': 'M', 'age': 60, 'email': 'kege@nibo...</td>\n",
       "      <td>False</td>\n",
       "      <td>In store</td>\n",
       "    </tr>\n",
       "    <tr>\n",
       "      <th>...</th>\n",
       "      <td>...</td>\n",
       "      <td>...</td>\n",
       "      <td>...</td>\n",
       "      <td>...</td>\n",
       "      <td>...</td>\n",
       "      <td>...</td>\n",
       "      <td>...</td>\n",
       "    </tr>\n",
       "    <tr>\n",
       "      <th>4995</th>\n",
       "      <td>{'$oid': '5bd761deae323e45a93ce33a'}</td>\n",
       "      <td>{'$date': '2016-12-22T15:24:27.219Z'}</td>\n",
       "      <td>[{'name': 'envelopes', 'tags': ['stationary', ...</td>\n",
       "      <td>Denver</td>\n",
       "      <td>{'gender': 'F', 'age': 53, 'email': 'tutrigkim...</td>\n",
       "      <td>True</td>\n",
       "      <td>In store</td>\n",
       "    </tr>\n",
       "    <tr>\n",
       "      <th>4996</th>\n",
       "      <td>{'$oid': '5bd761deae323e45a93ce349'}</td>\n",
       "      <td>{'$date': '2017-05-11T20:59:00.885Z'}</td>\n",
       "      <td>[{'name': 'envelopes', 'tags': ['stationary', ...</td>\n",
       "      <td>Denver</td>\n",
       "      <td>{'gender': 'F', 'age': 28, 'email': 'fuv@lidbo...</td>\n",
       "      <td>False</td>\n",
       "      <td>In store</td>\n",
       "    </tr>\n",
       "    <tr>\n",
       "      <th>4997</th>\n",
       "      <td>{'$oid': '5bd761deae323e45a93ce35b'}</td>\n",
       "      <td>{'$date': '2017-07-12T06:54:17.918Z'}</td>\n",
       "      <td>[{'name': 'binder', 'tags': ['school', 'genera...</td>\n",
       "      <td>Denver</td>\n",
       "      <td>{'gender': 'F', 'age': 19, 'email': 'mohofri@c...</td>\n",
       "      <td>False</td>\n",
       "      <td>In store</td>\n",
       "    </tr>\n",
       "    <tr>\n",
       "      <th>4998</th>\n",
       "      <td>{'$oid': '5bd761deae323e45a93ce35c'}</td>\n",
       "      <td>{'$date': '2016-11-24T13:40:08.689Z'}</td>\n",
       "      <td>[{'name': 'pens', 'tags': ['writing', 'office'...</td>\n",
       "      <td>Seattle</td>\n",
       "      <td>{'gender': 'F', 'age': 35, 'email': 'sug@faaf....</td>\n",
       "      <td>False</td>\n",
       "      <td>In store</td>\n",
       "    </tr>\n",
       "    <tr>\n",
       "      <th>4999</th>\n",
       "      <td>{'$oid': '5bd761deae323e45a93ce368'}</td>\n",
       "      <td>{'$date': '2015-04-22T08:31:40.113Z'}</td>\n",
       "      <td>[{'name': 'binder', 'tags': ['school', 'genera...</td>\n",
       "      <td>New York</td>\n",
       "      <td>{'gender': 'F', 'age': 65, 'email': 'cas@ejubu...</td>\n",
       "      <td>False</td>\n",
       "      <td>Online</td>\n",
       "    </tr>\n",
       "  </tbody>\n",
       "</table>\n",
       "<p>5000 rows × 7 columns</p>\n",
       "</div>"
      ],
      "text/plain": [
       "                                       _id  \\\n",
       "0     {'$oid': '5bd761dcae323e45a93cd008'}   \n",
       "1     {'$oid': '5bd761dcae323e45a93cd010'}   \n",
       "2     {'$oid': '5bd761dcae323e45a93ccff6'}   \n",
       "3     {'$oid': '5bd761dcae323e45a93cd001'}   \n",
       "4     {'$oid': '5bd761dcae323e45a93cd007'}   \n",
       "...                                    ...   \n",
       "4995  {'$oid': '5bd761deae323e45a93ce33a'}   \n",
       "4996  {'$oid': '5bd761deae323e45a93ce349'}   \n",
       "4997  {'$oid': '5bd761deae323e45a93ce35b'}   \n",
       "4998  {'$oid': '5bd761deae323e45a93ce35c'}   \n",
       "4999  {'$oid': '5bd761deae323e45a93ce368'}   \n",
       "\n",
       "                                   saleDate  \\\n",
       "0     {'$date': '2017-09-14T10:52:42.206Z'}   \n",
       "1     {'$date': '2016-09-13T16:54:42.141Z'}   \n",
       "2     {'$date': '2017-08-21T20:38:34.618Z'}   \n",
       "3     {'$date': '2017-02-09T12:08:51.353Z'}   \n",
       "4     {'$date': '2016-07-10T09:35:56.729Z'}   \n",
       "...                                     ...   \n",
       "4995  {'$date': '2016-12-22T15:24:27.219Z'}   \n",
       "4996  {'$date': '2017-05-11T20:59:00.885Z'}   \n",
       "4997  {'$date': '2017-07-12T06:54:17.918Z'}   \n",
       "4998  {'$date': '2016-11-24T13:40:08.689Z'}   \n",
       "4999  {'$date': '2015-04-22T08:31:40.113Z'}   \n",
       "\n",
       "                                                  items storeLocation  \\\n",
       "0     [{'name': 'backpack', 'tags': ['school', 'trav...        Denver   \n",
       "1     [{'name': 'binder', 'tags': ['school', 'genera...     San Diego   \n",
       "2     [{'name': 'printer paper', 'tags': ['office', ...     San Diego   \n",
       "3     [{'name': 'printer paper', 'tags': ['office', ...        Denver   \n",
       "4     [{'name': 'envelopes', 'tags': ['stationary', ...       Seattle   \n",
       "...                                                 ...           ...   \n",
       "4995  [{'name': 'envelopes', 'tags': ['stationary', ...        Denver   \n",
       "4996  [{'name': 'envelopes', 'tags': ['stationary', ...        Denver   \n",
       "4997  [{'name': 'binder', 'tags': ['school', 'genera...        Denver   \n",
       "4998  [{'name': 'pens', 'tags': ['writing', 'office'...       Seattle   \n",
       "4999  [{'name': 'binder', 'tags': ['school', 'genera...      New York   \n",
       "\n",
       "                                               customer  couponUsed  \\\n",
       "0     {'gender': 'F', 'age': 54, 'email': 'civma@roz...       False   \n",
       "1     {'gender': 'F', 'age': 70, 'email': 'itene@jin...       False   \n",
       "2     {'gender': 'F', 'age': 36, 'email': 'gul@waija...       False   \n",
       "3     {'gender': 'M', 'age': 48, 'email': 'avwa@ud.p...       False   \n",
       "4     {'gender': 'M', 'age': 60, 'email': 'kege@nibo...       False   \n",
       "...                                                 ...         ...   \n",
       "4995  {'gender': 'F', 'age': 53, 'email': 'tutrigkim...        True   \n",
       "4996  {'gender': 'F', 'age': 28, 'email': 'fuv@lidbo...       False   \n",
       "4997  {'gender': 'F', 'age': 19, 'email': 'mohofri@c...       False   \n",
       "4998  {'gender': 'F', 'age': 35, 'email': 'sug@faaf....       False   \n",
       "4999  {'gender': 'F', 'age': 65, 'email': 'cas@ejubu...       False   \n",
       "\n",
       "     purchaseMethod  \n",
       "0          In store  \n",
       "1             Phone  \n",
       "2            Online  \n",
       "3          In store  \n",
       "4          In store  \n",
       "...             ...  \n",
       "4995       In store  \n",
       "4996       In store  \n",
       "4997       In store  \n",
       "4998       In store  \n",
       "4999         Online  \n",
       "\n",
       "[5000 rows x 7 columns]"
      ]
     },
     "execution_count": 88,
     "metadata": {},
     "output_type": "execute_result"
    }
   ],
   "source": [
    "# Exploring df\n",
    "df"
   ]
  },
  {
   "cell_type": "code",
   "execution_count": 89,
   "metadata": {},
   "outputs": [
    {
     "data": {
      "text/html": [
       "<div>\n",
       "<style scoped>\n",
       "    .dataframe tbody tr th:only-of-type {\n",
       "        vertical-align: middle;\n",
       "    }\n",
       "\n",
       "    .dataframe tbody tr th {\n",
       "        vertical-align: top;\n",
       "    }\n",
       "\n",
       "    .dataframe thead th {\n",
       "        text-align: right;\n",
       "    }\n",
       "</style>\n",
       "<table border=\"1\" class=\"dataframe\">\n",
       "  <thead>\n",
       "    <tr style=\"text-align: right;\">\n",
       "      <th></th>\n",
       "      <th>_id</th>\n",
       "      <th>saleDate</th>\n",
       "      <th>items</th>\n",
       "      <th>storeLocation</th>\n",
       "      <th>customer</th>\n",
       "      <th>couponUsed</th>\n",
       "      <th>purchaseMethod</th>\n",
       "    </tr>\n",
       "  </thead>\n",
       "  <tbody>\n",
       "    <tr>\n",
       "      <th>0</th>\n",
       "      <td>{'$oid': '5bd761dcae323e45a93cd008'}</td>\n",
       "      <td>{'$date': '2017-09-14T10:52:42.206Z'}</td>\n",
       "      <td>[{'name': 'backpack', 'tags': ['school', 'trav...</td>\n",
       "      <td>Denver</td>\n",
       "      <td>{'gender': 'F', 'age': 54, 'email': 'civma@roz...</td>\n",
       "      <td>False</td>\n",
       "      <td>In store</td>\n",
       "    </tr>\n",
       "    <tr>\n",
       "      <th>1</th>\n",
       "      <td>{'$oid': '5bd761dcae323e45a93cd010'}</td>\n",
       "      <td>{'$date': '2016-09-13T16:54:42.141Z'}</td>\n",
       "      <td>[{'name': 'binder', 'tags': ['school', 'genera...</td>\n",
       "      <td>San Diego</td>\n",
       "      <td>{'gender': 'F', 'age': 70, 'email': 'itene@jin...</td>\n",
       "      <td>False</td>\n",
       "      <td>Phone</td>\n",
       "    </tr>\n",
       "    <tr>\n",
       "      <th>2</th>\n",
       "      <td>{'$oid': '5bd761dcae323e45a93ccff6'}</td>\n",
       "      <td>{'$date': '2017-08-21T20:38:34.618Z'}</td>\n",
       "      <td>[{'name': 'printer paper', 'tags': ['office', ...</td>\n",
       "      <td>San Diego</td>\n",
       "      <td>{'gender': 'F', 'age': 36, 'email': 'gul@waija...</td>\n",
       "      <td>False</td>\n",
       "      <td>Online</td>\n",
       "    </tr>\n",
       "    <tr>\n",
       "      <th>3</th>\n",
       "      <td>{'$oid': '5bd761dcae323e45a93cd001'}</td>\n",
       "      <td>{'$date': '2017-02-09T12:08:51.353Z'}</td>\n",
       "      <td>[{'name': 'printer paper', 'tags': ['office', ...</td>\n",
       "      <td>Denver</td>\n",
       "      <td>{'gender': 'M', 'age': 48, 'email': 'avwa@ud.p...</td>\n",
       "      <td>False</td>\n",
       "      <td>In store</td>\n",
       "    </tr>\n",
       "    <tr>\n",
       "      <th>4</th>\n",
       "      <td>{'$oid': '5bd761dcae323e45a93cd007'}</td>\n",
       "      <td>{'$date': '2016-07-10T09:35:56.729Z'}</td>\n",
       "      <td>[{'name': 'envelopes', 'tags': ['stationary', ...</td>\n",
       "      <td>Seattle</td>\n",
       "      <td>{'gender': 'M', 'age': 60, 'email': 'kege@nibo...</td>\n",
       "      <td>False</td>\n",
       "      <td>In store</td>\n",
       "    </tr>\n",
       "  </tbody>\n",
       "</table>\n",
       "</div>"
      ],
      "text/plain": [
       "                                    _id  \\\n",
       "0  {'$oid': '5bd761dcae323e45a93cd008'}   \n",
       "1  {'$oid': '5bd761dcae323e45a93cd010'}   \n",
       "2  {'$oid': '5bd761dcae323e45a93ccff6'}   \n",
       "3  {'$oid': '5bd761dcae323e45a93cd001'}   \n",
       "4  {'$oid': '5bd761dcae323e45a93cd007'}   \n",
       "\n",
       "                                saleDate  \\\n",
       "0  {'$date': '2017-09-14T10:52:42.206Z'}   \n",
       "1  {'$date': '2016-09-13T16:54:42.141Z'}   \n",
       "2  {'$date': '2017-08-21T20:38:34.618Z'}   \n",
       "3  {'$date': '2017-02-09T12:08:51.353Z'}   \n",
       "4  {'$date': '2016-07-10T09:35:56.729Z'}   \n",
       "\n",
       "                                               items storeLocation  \\\n",
       "0  [{'name': 'backpack', 'tags': ['school', 'trav...        Denver   \n",
       "1  [{'name': 'binder', 'tags': ['school', 'genera...     San Diego   \n",
       "2  [{'name': 'printer paper', 'tags': ['office', ...     San Diego   \n",
       "3  [{'name': 'printer paper', 'tags': ['office', ...        Denver   \n",
       "4  [{'name': 'envelopes', 'tags': ['stationary', ...       Seattle   \n",
       "\n",
       "                                            customer  couponUsed  \\\n",
       "0  {'gender': 'F', 'age': 54, 'email': 'civma@roz...       False   \n",
       "1  {'gender': 'F', 'age': 70, 'email': 'itene@jin...       False   \n",
       "2  {'gender': 'F', 'age': 36, 'email': 'gul@waija...       False   \n",
       "3  {'gender': 'M', 'age': 48, 'email': 'avwa@ud.p...       False   \n",
       "4  {'gender': 'M', 'age': 60, 'email': 'kege@nibo...       False   \n",
       "\n",
       "  purchaseMethod  \n",
       "0       In store  \n",
       "1          Phone  \n",
       "2         Online  \n",
       "3       In store  \n",
       "4       In store  "
      ]
     },
     "execution_count": 89,
     "metadata": {},
     "output_type": "execute_result"
    }
   ],
   "source": [
    "# Exploring df first 5 rows\n",
    "df.head(5)"
   ]
  },
  {
   "cell_type": "markdown",
   "metadata": {},
   "source": [
    "# Columns name"
   ]
  },
  {
   "cell_type": "code",
   "execution_count": 90,
   "metadata": {},
   "outputs": [
    {
     "data": {
      "text/plain": [
       "Index(['_id', 'saleDate', 'items', 'storeLocation', 'customer', 'couponUsed',\n",
       "       'purchaseMethod'],\n",
       "      dtype='object')"
      ]
     },
     "execution_count": 90,
     "metadata": {},
     "output_type": "execute_result"
    }
   ],
   "source": [
    "# Columns name\n",
    "df.columns"
   ]
  },
  {
   "cell_type": "code",
   "execution_count": 91,
   "metadata": {},
   "outputs": [
    {
     "data": {
      "text/plain": [
       "array(['backpack', 'printer paper', 'pens', 'envelopes', 'notepad',\n",
       "       'binder', 'laptop'], dtype=object)"
      ]
     },
     "execution_count": 91,
     "metadata": {},
     "output_type": "execute_result"
    }
   ],
   "source": [
    "# Items\n",
    "unique_items = df['items'].explode().apply(lambda x: x['name']).unique()\n",
    "unique_items"
   ]
  },
  {
   "cell_type": "code",
   "execution_count": 92,
   "metadata": {},
   "outputs": [
    {
     "data": {
      "text/plain": [
       "array(['Denver', 'San Diego', 'Seattle', 'New York', 'Austin', 'London'],\n",
       "      dtype=object)"
      ]
     },
     "execution_count": 92,
     "metadata": {},
     "output_type": "execute_result"
    }
   ],
   "source": [
    "# Store Locations\n",
    "stores_location = df[\"storeLocation\"].unique()\n",
    "stores_location"
   ]
  },
  {
   "cell_type": "code",
   "execution_count": 93,
   "metadata": {},
   "outputs": [
    {
     "data": {
      "text/plain": [
       "array(['In store', 'Phone', 'Online'], dtype=object)"
      ]
     },
     "execution_count": 93,
     "metadata": {},
     "output_type": "execute_result"
    }
   ],
   "source": [
    "# Purchase Methods\n",
    "purchase_method = df[\"purchaseMethod\"].unique()\n",
    "purchase_method"
   ]
  },
  {
   "cell_type": "code",
   "execution_count": 94,
   "metadata": {},
   "outputs": [
    {
     "data": {
      "text/plain": [
       "_id               object\n",
       "saleDate          object\n",
       "items             object\n",
       "storeLocation     object\n",
       "customer          object\n",
       "couponUsed          bool\n",
       "purchaseMethod    object\n",
       "dtype: object"
      ]
     },
     "execution_count": 94,
     "metadata": {},
     "output_type": "execute_result"
    }
   ],
   "source": [
    "# Columns type\n",
    "df.dtypes"
   ]
  },
  {
   "cell_type": "markdown",
   "metadata": {},
   "source": [
    "# Top 10 products sales"
   ]
  },
  {
   "cell_type": "code",
   "execution_count": 95,
   "metadata": {},
   "outputs": [],
   "source": [
    "# Initializes an empty list to store flattened data\n",
    "flattened_items = []\n",
    "\n",
    "for index, row in df.iterrows():\n",
    "    for item in row['items']:\n",
    "        name = item['name']\n",
    "        tags = item['tags']\n",
    "        quantity = int(item['quantity']) if 'quantity' in item else 0\n",
    "        price = item['price']\n",
    "        \n",
    "        if isinstance(price, dict):     # Checks if the 'price' attribute is a dictionary\n",
    "            price = float(price['$numberDecimal'])  # Extracts numeric value and converts into a float \n",
    "        else:\n",
    "            price = float(price)\n",
    "\n",
    "        flattened_items.append({\n",
    "            'name': name,\n",
    "            'tags': tags,\n",
    "            'quantity': quantity,\n",
    "            'price': price,\n",
    "        })"
   ]
  },
  {
   "cell_type": "code",
   "execution_count": 96,
   "metadata": {},
   "outputs": [],
   "source": [
    "# Create new data dataframe for flattened items \n",
    "new_df = pd.DataFrame(flattened_items)"
   ]
  },
  {
   "cell_type": "code",
   "execution_count": 97,
   "metadata": {},
   "outputs": [],
   "source": [
    "# Sales = Quantity * Price\n",
    "new_df['sales'] = new_df['quantity'] * new_df['price']"
   ]
  },
  {
   "cell_type": "code",
   "execution_count": 98,
   "metadata": {},
   "outputs": [
    {
     "data": {
      "text/html": [
       "<div>\n",
       "<style scoped>\n",
       "    .dataframe tbody tr th:only-of-type {\n",
       "        vertical-align: middle;\n",
       "    }\n",
       "\n",
       "    .dataframe tbody tr th {\n",
       "        vertical-align: top;\n",
       "    }\n",
       "\n",
       "    .dataframe thead th {\n",
       "        text-align: right;\n",
       "    }\n",
       "</style>\n",
       "<table border=\"1\" class=\"dataframe\">\n",
       "  <thead>\n",
       "    <tr style=\"text-align: right;\">\n",
       "      <th></th>\n",
       "      <th>name</th>\n",
       "      <th>tags</th>\n",
       "      <th>quantity</th>\n",
       "      <th>price</th>\n",
       "      <th>sales</th>\n",
       "    </tr>\n",
       "  </thead>\n",
       "  <tbody>\n",
       "    <tr>\n",
       "      <th>0</th>\n",
       "      <td>backpack</td>\n",
       "      <td>[school, travel, kids]</td>\n",
       "      <td>3</td>\n",
       "      <td>41.78</td>\n",
       "      <td>125.34</td>\n",
       "    </tr>\n",
       "    <tr>\n",
       "      <th>1</th>\n",
       "      <td>printer paper</td>\n",
       "      <td>[office, stationary]</td>\n",
       "      <td>1</td>\n",
       "      <td>38.93</td>\n",
       "      <td>38.93</td>\n",
       "    </tr>\n",
       "    <tr>\n",
       "      <th>2</th>\n",
       "      <td>pens</td>\n",
       "      <td>[writing, office, school, stationary]</td>\n",
       "      <td>2</td>\n",
       "      <td>70.71</td>\n",
       "      <td>141.42</td>\n",
       "    </tr>\n",
       "    <tr>\n",
       "      <th>3</th>\n",
       "      <td>envelopes</td>\n",
       "      <td>[stationary, office, general]</td>\n",
       "      <td>6</td>\n",
       "      <td>23.63</td>\n",
       "      <td>141.78</td>\n",
       "    </tr>\n",
       "    <tr>\n",
       "      <th>4</th>\n",
       "      <td>notepad</td>\n",
       "      <td>[office, writing, school]</td>\n",
       "      <td>1</td>\n",
       "      <td>5.77</td>\n",
       "      <td>5.77</td>\n",
       "    </tr>\n",
       "    <tr>\n",
       "      <th>...</th>\n",
       "      <td>...</td>\n",
       "      <td>...</td>\n",
       "      <td>...</td>\n",
       "      <td>...</td>\n",
       "      <td>...</td>\n",
       "    </tr>\n",
       "    <tr>\n",
       "      <th>27433</th>\n",
       "      <td>binder</td>\n",
       "      <td>[school, general, organization]</td>\n",
       "      <td>7</td>\n",
       "      <td>14.90</td>\n",
       "      <td>104.30</td>\n",
       "    </tr>\n",
       "    <tr>\n",
       "      <th>27434</th>\n",
       "      <td>pens</td>\n",
       "      <td>[writing, office, school, stationary]</td>\n",
       "      <td>4</td>\n",
       "      <td>48.03</td>\n",
       "      <td>192.12</td>\n",
       "    </tr>\n",
       "    <tr>\n",
       "      <th>27435</th>\n",
       "      <td>printer paper</td>\n",
       "      <td>[office, stationary]</td>\n",
       "      <td>6</td>\n",
       "      <td>11.39</td>\n",
       "      <td>68.34</td>\n",
       "    </tr>\n",
       "    <tr>\n",
       "      <th>27436</th>\n",
       "      <td>notepad</td>\n",
       "      <td>[office, writing, school]</td>\n",
       "      <td>3</td>\n",
       "      <td>20.09</td>\n",
       "      <td>60.27</td>\n",
       "    </tr>\n",
       "    <tr>\n",
       "      <th>27437</th>\n",
       "      <td>pens</td>\n",
       "      <td>[writing, office, school, stationary]</td>\n",
       "      <td>4</td>\n",
       "      <td>19.51</td>\n",
       "      <td>78.04</td>\n",
       "    </tr>\n",
       "  </tbody>\n",
       "</table>\n",
       "<p>27438 rows × 5 columns</p>\n",
       "</div>"
      ],
      "text/plain": [
       "                name                                   tags  quantity  price  \\\n",
       "0           backpack                 [school, travel, kids]         3  41.78   \n",
       "1      printer paper                   [office, stationary]         1  38.93   \n",
       "2               pens  [writing, office, school, stationary]         2  70.71   \n",
       "3          envelopes          [stationary, office, general]         6  23.63   \n",
       "4            notepad              [office, writing, school]         1   5.77   \n",
       "...              ...                                    ...       ...    ...   \n",
       "27433         binder        [school, general, organization]         7  14.90   \n",
       "27434           pens  [writing, office, school, stationary]         4  48.03   \n",
       "27435  printer paper                   [office, stationary]         6  11.39   \n",
       "27436        notepad              [office, writing, school]         3  20.09   \n",
       "27437           pens  [writing, office, school, stationary]         4  19.51   \n",
       "\n",
       "        sales  \n",
       "0      125.34  \n",
       "1       38.93  \n",
       "2      141.42  \n",
       "3      141.78  \n",
       "4        5.77  \n",
       "...       ...  \n",
       "27433  104.30  \n",
       "27434  192.12  \n",
       "27435   68.34  \n",
       "27436   60.27  \n",
       "27437   78.04  \n",
       "\n",
       "[27438 rows x 5 columns]"
      ]
     },
     "execution_count": 98,
     "metadata": {},
     "output_type": "execute_result"
    }
   ],
   "source": [
    "# Exploring new_df\n",
    "new_df"
   ]
  },
  {
   "cell_type": "code",
   "execution_count": 99,
   "metadata": {},
   "outputs": [],
   "source": [
    "top_products = new_df.groupby('name')['sales'].sum().reset_index()\n",
    "top_products = top_products.sort_values(by='sales', ascending=False)"
   ]
  },
  {
   "cell_type": "code",
   "execution_count": 100,
   "metadata": {},
   "outputs": [],
   "source": [
    "top_10_products = top_products.head(10)"
   ]
  },
  {
   "cell_type": "code",
   "execution_count": 101,
   "metadata": {},
   "outputs": [
    {
     "name": "stdout",
     "output_type": "stream",
     "text": [
      "            name       sales\n",
      "3         laptop  6775977.07\n",
      "0       backpack   817374.10\n",
      "5           pens   581843.27\n",
      "1         binder   511644.57\n",
      "4        notepad   463615.48\n",
      "2      envelopes   376658.49\n",
      "6  printer paper   367459.29\n"
     ]
    }
   ],
   "source": [
    "# Top 10 products which has the most sales\n",
    "print(top_10_products)"
   ]
  },
  {
   "cell_type": "code",
   "execution_count": 102,
   "metadata": {},
   "outputs": [
    {
     "data": {
      "text/html": [
       "<div>\n",
       "<style scoped>\n",
       "    .dataframe tbody tr th:only-of-type {\n",
       "        vertical-align: middle;\n",
       "    }\n",
       "\n",
       "    .dataframe tbody tr th {\n",
       "        vertical-align: top;\n",
       "    }\n",
       "\n",
       "    .dataframe thead th {\n",
       "        text-align: right;\n",
       "    }\n",
       "</style>\n",
       "<table border=\"1\" class=\"dataframe\">\n",
       "  <thead>\n",
       "    <tr style=\"text-align: right;\">\n",
       "      <th></th>\n",
       "      <th>name</th>\n",
       "      <th>tags</th>\n",
       "      <th>quantity</th>\n",
       "      <th>price</th>\n",
       "      <th>sales</th>\n",
       "    </tr>\n",
       "  </thead>\n",
       "  <tbody>\n",
       "    <tr>\n",
       "      <th>0</th>\n",
       "      <td>backpack</td>\n",
       "      <td>[school, travel, kids]</td>\n",
       "      <td>3</td>\n",
       "      <td>41.78</td>\n",
       "      <td>125.34</td>\n",
       "    </tr>\n",
       "    <tr>\n",
       "      <th>1</th>\n",
       "      <td>printer paper</td>\n",
       "      <td>[office, stationary]</td>\n",
       "      <td>1</td>\n",
       "      <td>38.93</td>\n",
       "      <td>38.93</td>\n",
       "    </tr>\n",
       "    <tr>\n",
       "      <th>2</th>\n",
       "      <td>pens</td>\n",
       "      <td>[writing, office, school, stationary]</td>\n",
       "      <td>2</td>\n",
       "      <td>70.71</td>\n",
       "      <td>141.42</td>\n",
       "    </tr>\n",
       "    <tr>\n",
       "      <th>3</th>\n",
       "      <td>envelopes</td>\n",
       "      <td>[stationary, office, general]</td>\n",
       "      <td>6</td>\n",
       "      <td>23.63</td>\n",
       "      <td>141.78</td>\n",
       "    </tr>\n",
       "    <tr>\n",
       "      <th>4</th>\n",
       "      <td>notepad</td>\n",
       "      <td>[office, writing, school]</td>\n",
       "      <td>1</td>\n",
       "      <td>5.77</td>\n",
       "      <td>5.77</td>\n",
       "    </tr>\n",
       "    <tr>\n",
       "      <th>...</th>\n",
       "      <td>...</td>\n",
       "      <td>...</td>\n",
       "      <td>...</td>\n",
       "      <td>...</td>\n",
       "      <td>...</td>\n",
       "    </tr>\n",
       "    <tr>\n",
       "      <th>27433</th>\n",
       "      <td>binder</td>\n",
       "      <td>[school, general, organization]</td>\n",
       "      <td>7</td>\n",
       "      <td>14.90</td>\n",
       "      <td>104.30</td>\n",
       "    </tr>\n",
       "    <tr>\n",
       "      <th>27434</th>\n",
       "      <td>pens</td>\n",
       "      <td>[writing, office, school, stationary]</td>\n",
       "      <td>4</td>\n",
       "      <td>48.03</td>\n",
       "      <td>192.12</td>\n",
       "    </tr>\n",
       "    <tr>\n",
       "      <th>27435</th>\n",
       "      <td>printer paper</td>\n",
       "      <td>[office, stationary]</td>\n",
       "      <td>6</td>\n",
       "      <td>11.39</td>\n",
       "      <td>68.34</td>\n",
       "    </tr>\n",
       "    <tr>\n",
       "      <th>27436</th>\n",
       "      <td>notepad</td>\n",
       "      <td>[office, writing, school]</td>\n",
       "      <td>3</td>\n",
       "      <td>20.09</td>\n",
       "      <td>60.27</td>\n",
       "    </tr>\n",
       "    <tr>\n",
       "      <th>27437</th>\n",
       "      <td>pens</td>\n",
       "      <td>[writing, office, school, stationary]</td>\n",
       "      <td>4</td>\n",
       "      <td>19.51</td>\n",
       "      <td>78.04</td>\n",
       "    </tr>\n",
       "  </tbody>\n",
       "</table>\n",
       "<p>27438 rows × 5 columns</p>\n",
       "</div>"
      ],
      "text/plain": [
       "                name                                   tags  quantity  price  \\\n",
       "0           backpack                 [school, travel, kids]         3  41.78   \n",
       "1      printer paper                   [office, stationary]         1  38.93   \n",
       "2               pens  [writing, office, school, stationary]         2  70.71   \n",
       "3          envelopes          [stationary, office, general]         6  23.63   \n",
       "4            notepad              [office, writing, school]         1   5.77   \n",
       "...              ...                                    ...       ...    ...   \n",
       "27433         binder        [school, general, organization]         7  14.90   \n",
       "27434           pens  [writing, office, school, stationary]         4  48.03   \n",
       "27435  printer paper                   [office, stationary]         6  11.39   \n",
       "27436        notepad              [office, writing, school]         3  20.09   \n",
       "27437           pens  [writing, office, school, stationary]         4  19.51   \n",
       "\n",
       "        sales  \n",
       "0      125.34  \n",
       "1       38.93  \n",
       "2      141.42  \n",
       "3      141.78  \n",
       "4        5.77  \n",
       "...       ...  \n",
       "27433  104.30  \n",
       "27434  192.12  \n",
       "27435   68.34  \n",
       "27436   60.27  \n",
       "27437   78.04  \n",
       "\n",
       "[27438 rows x 5 columns]"
      ]
     },
     "execution_count": 102,
     "metadata": {},
     "output_type": "execute_result"
    }
   ],
   "source": [
    "new_df"
   ]
  },
  {
   "cell_type": "markdown",
   "metadata": {},
   "source": [
    "# Stores ranking"
   ]
  },
  {
   "cell_type": "code",
   "execution_count": 103,
   "metadata": {},
   "outputs": [],
   "source": [
    "flattened_items = []\n",
    "\n",
    "for index, row in df.iterrows():\n",
    "    for item in row['items']:\n",
    "        price_dict = item.get('price', {'$numberDecimal': '0'})\n",
    "        price_str = price_dict.get('$numberDecimal', '0')\n",
    "        price = float(price_str)\n",
    "        \n",
    "        flattened_items.append({\n",
    "            'name': item['name'],\n",
    "            'tags': item['tags'],\n",
    "            'quantity': int(item['quantity']),\n",
    "            'price': price,\n",
    "            'storeLocation': row['storeLocation']\n",
    "        })"
   ]
  },
  {
   "cell_type": "code",
   "execution_count": 104,
   "metadata": {},
   "outputs": [],
   "source": [
    "# New data frame for flattened_items\n",
    "new_df = pd.DataFrame(flattened_items)\n",
    "new_df['sales'] = new_df['quantity'] * new_df['price']"
   ]
  },
  {
   "cell_type": "code",
   "execution_count": 105,
   "metadata": {},
   "outputs": [],
   "source": [
    "# Store ranking\n",
    "store_rankings = new_df.groupby('storeLocation')['sales'].sum().reset_index()\n",
    "\n",
    "# Sorting\n",
    "store_rankings = store_rankings.sort_values(by='sales', ascending=False)\n",
    "\n",
    "store_rankings['Rank'] = range(1, len(store_rankings) + 1)"
   ]
  },
  {
   "cell_type": "code",
   "execution_count": 106,
   "metadata": {},
   "outputs": [
    {
     "name": "stdout",
     "output_type": "stream",
     "text": [
      "  storeLocation       sales  Rank\n",
      "1        Denver  2921009.92     1\n",
      "5       Seattle  2255947.69     2\n",
      "2        London  1583066.79     3\n",
      "0        Austin  1445603.11     4\n",
      "3      New York  1016059.59     5\n",
      "4     San Diego   672885.17     6\n"
     ]
    }
   ],
   "source": [
    "print(store_rankings)"
   ]
  },
  {
   "cell_type": "markdown",
   "metadata": {},
   "source": [
    "# Top 3 products by store"
   ]
  },
  {
   "cell_type": "code",
   "execution_count": 107,
   "metadata": {},
   "outputs": [],
   "source": [
    "# Group by\n",
    "sales_by_store_and_product = new_df.groupby(['storeLocation', 'name'])['sales'].sum().reset_index()\n",
    "\n",
    "# Sorting\n",
    "sales_by_store_and_product = sales_by_store_and_product.sort_values(by=['storeLocation', 'sales'], ascending=[True, False])\n"
   ]
  },
  {
   "cell_type": "code",
   "execution_count": 108,
   "metadata": {},
   "outputs": [
    {
     "name": "stdout",
     "output_type": "stream",
     "text": [
      "Store Location: Austin\n",
      "Top 3 Products by Sales:\n",
      "1. laptop\n",
      "2. backpack\n",
      "3. pens\n",
      "\n",
      "Store Location: Denver\n",
      "Top 3 Products by Sales:\n",
      "1. laptop\n",
      "2. backpack\n",
      "3. pens\n",
      "\n",
      "Store Location: London\n",
      "Top 3 Products by Sales:\n",
      "1. laptop\n",
      "2. backpack\n",
      "3. pens\n",
      "\n",
      "Store Location: New York\n",
      "Top 3 Products by Sales:\n",
      "1. laptop\n",
      "2. backpack\n",
      "3. pens\n",
      "\n",
      "Store Location: San Diego\n",
      "Top 3 Products by Sales:\n",
      "1. laptop\n",
      "2. backpack\n",
      "3. pens\n",
      "\n",
      "Store Location: Seattle\n",
      "Top 3 Products by Sales:\n",
      "1. laptop\n",
      "2. backpack\n",
      "3. pens\n",
      "\n"
     ]
    }
   ],
   "source": [
    "# Storing top 3 products of each store\n",
    "top_3_products_by_store = {}\n",
    "\n",
    "for store_location, group in sales_by_store_and_product.groupby('storeLocation'):\n",
    "    top_3_products = group['name'].head(3).tolist()     # Top 3 product names for the store by using .head(3).tolist()\n",
    "    top_3_products_by_store[store_location] = top_3_products\n",
    "\n",
    "# Showing top 3 products of each store\n",
    "for store_location, top_products in top_3_products_by_store.items():\n",
    "    print(f\"Store Location: {store_location}\")\n",
    "    print(\"Top 3 Products by Sales:\")\n",
    "    for i, product_name in enumerate(top_products, start=1):\n",
    "        print(f\"{i}. {product_name}\")\n",
    "    print()"
   ]
  },
  {
   "cell_type": "markdown",
   "metadata": {},
   "source": [
    "## Quantity of each product by stores"
   ]
  },
  {
   "cell_type": "code",
   "execution_count": 109,
   "metadata": {},
   "outputs": [],
   "source": [
    "sales_by_location = new_df.groupby(['storeLocation', 'name'])['quantity'].sum().reset_index()\n",
    "\n",
    "# Sorting\n",
    "sales_by_location = sales_by_location.sort_values(by=['storeLocation', 'quantity'], ascending=[True, False])"
   ]
  },
  {
   "cell_type": "code",
   "execution_count": 110,
   "metadata": {},
   "outputs": [],
   "source": [
    "# Group by store location\n",
    "top_3_products_by_location = sales_by_location.groupby('storeLocation').head(3)"
   ]
  },
  {
   "cell_type": "code",
   "execution_count": 111,
   "metadata": {},
   "outputs": [
    {
     "name": "stdout",
     "output_type": "stream",
     "text": [
      "   storeLocation       name  quantity\n",
      "2         Austin  envelopes      3490\n",
      "1         Austin     binder      3331\n",
      "4         Austin    notepad      3128\n",
      "8         Denver     binder      7986\n",
      "9         Denver  envelopes      7832\n",
      "11        Denver    notepad      6276\n",
      "16        London  envelopes      4037\n",
      "15        London     binder      3871\n",
      "18        London    notepad      3278\n",
      "22      New York     binder      2602\n",
      "23      New York  envelopes      2540\n",
      "25      New York    notepad      2073\n",
      "29     San Diego     binder      1817\n",
      "30     San Diego  envelopes      1613\n",
      "32     San Diego    notepad      1426\n",
      "36       Seattle     binder      5886\n",
      "37       Seattle  envelopes      5566\n",
      "39       Seattle    notepad      4546\n"
     ]
    }
   ],
   "source": [
    "print(top_3_products_by_location)"
   ]
  },
  {
   "cell_type": "markdown",
   "metadata": {},
   "source": [
    "# Purchased method by gender table"
   ]
  },
  {
   "cell_type": "code",
   "execution_count": 112,
   "metadata": {},
   "outputs": [],
   "source": [
    "purchase_method = df['purchaseMethod']"
   ]
  },
  {
   "cell_type": "code",
   "execution_count": 113,
   "metadata": {},
   "outputs": [],
   "source": [
    "gender = df['customer'].apply(lambda x: x.get('gender', 'Unknown'))\n",
    "\n",
    "combined_df = pd.DataFrame({'purchaseMethod': purchase_method, 'gender': gender})"
   ]
  },
  {
   "cell_type": "code",
   "execution_count": 114,
   "metadata": {},
   "outputs": [],
   "source": [
    "# Summarize and compare\n",
    "purchase_method_by_gender = pd.crosstab(combined_df['gender'], combined_df['purchaseMethod']) # gender, rows of the table. purchaseMethod, columns of the table"
   ]
  },
  {
   "cell_type": "code",
   "execution_count": 115,
   "metadata": {},
   "outputs": [
    {
     "name": "stdout",
     "output_type": "stream",
     "text": [
      "purchaseMethod  In store  Online  Phone\n",
      "gender                                 \n",
      "F                   1430     813    284\n",
      "M                   1389     772    312\n"
     ]
    }
   ],
   "source": [
    "print(purchase_method_by_gender)"
   ]
  },
  {
   "cell_type": "code",
   "execution_count": 116,
   "metadata": {},
   "outputs": [
    {
     "data": {
      "text/plain": [
       "name              object\n",
       "tags              object\n",
       "quantity           int64\n",
       "price            float64\n",
       "storeLocation     object\n",
       "sales            float64\n",
       "dtype: object"
      ]
     },
     "execution_count": 116,
     "metadata": {},
     "output_type": "execute_result"
    }
   ],
   "source": [
    "# Checking data types of new_df\n",
    "new_df.dtypes"
   ]
  },
  {
   "cell_type": "markdown",
   "metadata": {},
   "source": [
    "# Monthly Total Sales"
   ]
  },
  {
   "cell_type": "code",
   "execution_count": 117,
   "metadata": {},
   "outputs": [],
   "source": [
    "# Extracting DateStr\n",
    "df['DateStr'] = df['saleDate'].apply(lambda x: x['$date'])\n",
    "\n",
    "# Converts DateStr into Datetime with .to_datetime\n",
    "df['saleDate'] = pd.to_datetime(df['DateStr'], errors='coerce')\n",
    "\n",
    "# Creating new column called 'YearMonth' to store year and month from 'saleDate'\n",
    "df['YearMonth'] = df['saleDate'].dt.strftime('%Y-%m')"
   ]
  },
  {
   "cell_type": "code",
   "execution_count": 118,
   "metadata": {},
   "outputs": [],
   "source": [
    "# Group by 'YearMonth', Calculate the sum of 'sales'\n",
    "monthly_total_sales = new_df.groupby(df['YearMonth'])['sales'].sum().reset_index()"
   ]
  },
  {
   "cell_type": "code",
   "execution_count": 119,
   "metadata": {},
   "outputs": [
    {
     "name": "stdout",
     "output_type": "stream",
     "text": [
      "   YearMonth     sales\n",
      "0    2013-01  33176.04\n",
      "1    2013-02  53350.71\n",
      "2    2013-03  41161.58\n",
      "3    2013-04  28734.80\n",
      "4    2013-05  26941.02\n",
      "5    2013-06  36198.62\n",
      "6    2013-07  19430.69\n",
      "7    2013-08  13187.30\n",
      "8    2013-09  26758.21\n",
      "9    2013-10  49108.01\n",
      "10   2013-11  40644.27\n",
      "11   2013-12  31786.61\n",
      "12   2014-01  20236.04\n",
      "13   2014-02  23918.49\n",
      "14   2014-03  32972.67\n",
      "15   2014-04  36841.52\n",
      "16   2014-05  32504.89\n",
      "17   2014-06  22426.67\n",
      "18   2014-07  15560.90\n",
      "19   2014-08  15239.77\n",
      "20   2014-09  21202.58\n",
      "21   2014-10  35829.39\n",
      "22   2014-11  22631.86\n",
      "23   2014-12  19847.01\n",
      "24   2015-01  48126.57\n",
      "25   2015-02  28247.71\n",
      "26   2015-03  22240.36\n",
      "27   2015-04  28296.00\n",
      "28   2015-05  24996.25\n",
      "29   2015-06  29174.00\n",
      "30   2015-07  22875.44\n",
      "31   2015-08  40825.22\n",
      "32   2015-09  24701.32\n",
      "33   2015-10  39385.25\n",
      "34   2015-11  29816.88\n",
      "35   2015-12  29055.77\n",
      "36   2016-01  26510.05\n",
      "37   2016-02  46662.45\n",
      "38   2016-03  35533.18\n",
      "39   2016-04  30378.17\n",
      "40   2016-05  26917.92\n",
      "41   2016-06  20306.42\n",
      "42   2016-07  30461.81\n",
      "43   2016-08  31987.93\n",
      "44   2016-09  56989.02\n",
      "45   2016-10  38659.12\n",
      "46   2016-11  27769.71\n",
      "47   2016-12  34527.38\n",
      "48   2017-01  23276.99\n",
      "49   2017-02  29590.47\n",
      "50   2017-03  30724.11\n",
      "51   2017-04  26105.17\n",
      "52   2017-05  36421.01\n",
      "53   2017-06  28256.56\n",
      "54   2017-07  45565.34\n",
      "55   2017-08  25606.25\n",
      "56   2017-09  41467.64\n",
      "57   2017-10  31952.40\n",
      "58   2017-11  28479.49\n",
      "59   2017-12  43738.53\n"
     ]
    }
   ],
   "source": [
    "# Showing monthly total sales\n",
    "print(monthly_total_sales)"
   ]
  },
  {
   "cell_type": "code",
   "execution_count": null,
   "metadata": {},
   "outputs": [],
   "source": []
  }
 ],
 "metadata": {
  "kernelspec": {
   "display_name": "Python 3",
   "language": "python",
   "name": "python3"
  },
  "language_info": {
   "codemirror_mode": {
    "name": "ipython",
    "version": 3
   },
   "file_extension": ".py",
   "mimetype": "text/x-python",
   "name": "python",
   "nbconvert_exporter": "python",
   "pygments_lexer": "ipython3",
   "version": "3.9.13"
  },
  "orig_nbformat": 4
 },
 "nbformat": 4,
 "nbformat_minor": 2
}
